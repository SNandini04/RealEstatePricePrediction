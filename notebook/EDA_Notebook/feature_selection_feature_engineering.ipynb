{
 "cells": [
  {
   "cell_type": "code",
   "execution_count": 3,
   "id": "779df863",
   "metadata": {},
   "outputs": [],
   "source": [
    "import numpy as np\n",
    "import pandas as pd\n",
    "import matplotlib.pyplot as plt\n",
    "import seaborn as sns"
   ]
  },
  {
   "cell_type": "code",
   "execution_count": 4,
   "id": "eb32501d",
   "metadata": {},
   "outputs": [],
   "source": [
    "pd.set_option('display.max_columns', None)"
   ]
  },
  {
   "cell_type": "code",
   "execution_count": 6,
   "id": "e121420e",
   "metadata": {},
   "outputs": [],
   "source": [
    "import warnings \n",
    "warnings.filterwarnings('ignore')"
   ]
  },
  {
   "cell_type": "code",
   "execution_count": 7,
   "id": "06cfae06",
   "metadata": {},
   "outputs": [],
   "source": [
    "df = pd.read_csv('gurgaon_properties_missing_value_imputation.csv')"
   ]
  },
  {
   "cell_type": "code",
   "execution_count": 8,
   "id": "2843d268",
   "metadata": {},
   "outputs": [
    {
     "data": {
      "text/plain": [
       "(3571, 18)"
      ]
     },
     "execution_count": 8,
     "metadata": {},
     "output_type": "execute_result"
    }
   ],
   "source": [
    "df.shape"
   ]
  },
  {
   "cell_type": "code",
   "execution_count": 9,
   "id": "18752912",
   "metadata": {},
   "outputs": [
    {
     "data": {
      "text/html": [
       "<div>\n",
       "<style scoped>\n",
       "    .dataframe tbody tr th:only-of-type {\n",
       "        vertical-align: middle;\n",
       "    }\n",
       "\n",
       "    .dataframe tbody tr th {\n",
       "        vertical-align: top;\n",
       "    }\n",
       "\n",
       "    .dataframe thead th {\n",
       "        text-align: right;\n",
       "    }\n",
       "</style>\n",
       "<table border=\"1\" class=\"dataframe\">\n",
       "  <thead>\n",
       "    <tr style=\"text-align: right;\">\n",
       "      <th></th>\n",
       "      <th>property_type</th>\n",
       "      <th>society</th>\n",
       "      <th>sector</th>\n",
       "      <th>price</th>\n",
       "      <th>price_per_sqft</th>\n",
       "      <th>bedRoom</th>\n",
       "      <th>bathroom</th>\n",
       "      <th>balcony</th>\n",
       "      <th>floorNum</th>\n",
       "      <th>agePossession</th>\n",
       "      <th>built_up_area</th>\n",
       "      <th>study room</th>\n",
       "      <th>servant room</th>\n",
       "      <th>store room</th>\n",
       "      <th>pooja room</th>\n",
       "      <th>others</th>\n",
       "      <th>furnishing_type</th>\n",
       "      <th>luxury_score</th>\n",
       "    </tr>\n",
       "  </thead>\n",
       "  <tbody>\n",
       "    <tr>\n",
       "      <th>0</th>\n",
       "      <td>flat</td>\n",
       "      <td>experion windchants</td>\n",
       "      <td>sector 112</td>\n",
       "      <td>4.75</td>\n",
       "      <td>12623.0</td>\n",
       "      <td>3</td>\n",
       "      <td>5</td>\n",
       "      <td>3+</td>\n",
       "      <td>4.0</td>\n",
       "      <td>Relatively New</td>\n",
       "      <td>3405.0</td>\n",
       "      <td>0</td>\n",
       "      <td>1</td>\n",
       "      <td>0</td>\n",
       "      <td>0</td>\n",
       "      <td>0</td>\n",
       "      <td>0</td>\n",
       "      <td>42</td>\n",
       "    </tr>\n",
       "    <tr>\n",
       "      <th>1</th>\n",
       "      <td>flat</td>\n",
       "      <td>ild greens</td>\n",
       "      <td>sector 37c</td>\n",
       "      <td>0.90</td>\n",
       "      <td>5614.0</td>\n",
       "      <td>3</td>\n",
       "      <td>3</td>\n",
       "      <td>3</td>\n",
       "      <td>0.0</td>\n",
       "      <td>Under Construction</td>\n",
       "      <td>1500.0</td>\n",
       "      <td>0</td>\n",
       "      <td>0</td>\n",
       "      <td>0</td>\n",
       "      <td>0</td>\n",
       "      <td>0</td>\n",
       "      <td>1</td>\n",
       "      <td>66</td>\n",
       "    </tr>\n",
       "    <tr>\n",
       "      <th>2</th>\n",
       "      <td>flat</td>\n",
       "      <td>signature global synera</td>\n",
       "      <td>sector 81</td>\n",
       "      <td>0.45</td>\n",
       "      <td>7525.0</td>\n",
       "      <td>2</td>\n",
       "      <td>2</td>\n",
       "      <td>2</td>\n",
       "      <td>6.0</td>\n",
       "      <td>Relatively New</td>\n",
       "      <td>664.0</td>\n",
       "      <td>0</td>\n",
       "      <td>0</td>\n",
       "      <td>1</td>\n",
       "      <td>0</td>\n",
       "      <td>0</td>\n",
       "      <td>0</td>\n",
       "      <td>39</td>\n",
       "    </tr>\n",
       "    <tr>\n",
       "      <th>3</th>\n",
       "      <td>house</td>\n",
       "      <td>independent</td>\n",
       "      <td>sector 43</td>\n",
       "      <td>9.85</td>\n",
       "      <td>29642.0</td>\n",
       "      <td>5</td>\n",
       "      <td>5</td>\n",
       "      <td>2</td>\n",
       "      <td>3.0</td>\n",
       "      <td>Old Property</td>\n",
       "      <td>3323.0</td>\n",
       "      <td>1</td>\n",
       "      <td>1</td>\n",
       "      <td>0</td>\n",
       "      <td>1</td>\n",
       "      <td>0</td>\n",
       "      <td>1</td>\n",
       "      <td>21</td>\n",
       "    </tr>\n",
       "    <tr>\n",
       "      <th>4</th>\n",
       "      <td>flat</td>\n",
       "      <td>sare homes</td>\n",
       "      <td>sector 92</td>\n",
       "      <td>0.80</td>\n",
       "      <td>4695.0</td>\n",
       "      <td>4</td>\n",
       "      <td>4</td>\n",
       "      <td>3</td>\n",
       "      <td>1.0</td>\n",
       "      <td>Moderately Old</td>\n",
       "      <td>1893.0</td>\n",
       "      <td>0</td>\n",
       "      <td>0</td>\n",
       "      <td>0</td>\n",
       "      <td>0</td>\n",
       "      <td>0</td>\n",
       "      <td>1</td>\n",
       "      <td>77</td>\n",
       "    </tr>\n",
       "  </tbody>\n",
       "</table>\n",
       "</div>"
      ],
      "text/plain": [
       "  property_type                  society      sector  price  price_per_sqft  \\\n",
       "0          flat      experion windchants  sector 112   4.75         12623.0   \n",
       "1          flat               ild greens  sector 37c   0.90          5614.0   \n",
       "2          flat  signature global synera   sector 81   0.45          7525.0   \n",
       "3         house              independent   sector 43   9.85         29642.0   \n",
       "4          flat               sare homes   sector 92   0.80          4695.0   \n",
       "\n",
       "   bedRoom  bathroom balcony  floorNum       agePossession  built_up_area  \\\n",
       "0        3         5      3+       4.0      Relatively New         3405.0   \n",
       "1        3         3       3       0.0  Under Construction         1500.0   \n",
       "2        2         2       2       6.0      Relatively New          664.0   \n",
       "3        5         5       2       3.0        Old Property         3323.0   \n",
       "4        4         4       3       1.0      Moderately Old         1893.0   \n",
       "\n",
       "   study room  servant room  store room  pooja room  others  furnishing_type  \\\n",
       "0           0             1           0           0       0                0   \n",
       "1           0             0           0           0       0                1   \n",
       "2           0             0           1           0       0                0   \n",
       "3           1             1           0           1       0                1   \n",
       "4           0             0           0           0       0                1   \n",
       "\n",
       "   luxury_score  \n",
       "0            42  \n",
       "1            66  \n",
       "2            39  \n",
       "3            21  \n",
       "4            77  "
      ]
     },
     "execution_count": 9,
     "metadata": {},
     "output_type": "execute_result"
    }
   ],
   "source": [
    "df.head()"
   ]
  },
  {
   "cell_type": "code",
   "execution_count": 10,
   "id": "18c6984c",
   "metadata": {},
   "outputs": [],
   "source": [
    "train_df = df.drop(columns=['society','price_per_sqft'])"
   ]
  },
  {
   "cell_type": "code",
   "execution_count": 11,
   "id": "4aa613df",
   "metadata": {},
   "outputs": [
    {
     "data": {
      "text/html": [
       "<div>\n",
       "<style scoped>\n",
       "    .dataframe tbody tr th:only-of-type {\n",
       "        vertical-align: middle;\n",
       "    }\n",
       "\n",
       "    .dataframe tbody tr th {\n",
       "        vertical-align: top;\n",
       "    }\n",
       "\n",
       "    .dataframe thead th {\n",
       "        text-align: right;\n",
       "    }\n",
       "</style>\n",
       "<table border=\"1\" class=\"dataframe\">\n",
       "  <thead>\n",
       "    <tr style=\"text-align: right;\">\n",
       "      <th></th>\n",
       "      <th>property_type</th>\n",
       "      <th>sector</th>\n",
       "      <th>price</th>\n",
       "      <th>bedRoom</th>\n",
       "      <th>bathroom</th>\n",
       "      <th>balcony</th>\n",
       "      <th>floorNum</th>\n",
       "      <th>agePossession</th>\n",
       "      <th>built_up_area</th>\n",
       "      <th>study room</th>\n",
       "      <th>servant room</th>\n",
       "      <th>store room</th>\n",
       "      <th>pooja room</th>\n",
       "      <th>others</th>\n",
       "      <th>furnishing_type</th>\n",
       "      <th>luxury_score</th>\n",
       "    </tr>\n",
       "  </thead>\n",
       "  <tbody>\n",
       "    <tr>\n",
       "      <th>0</th>\n",
       "      <td>flat</td>\n",
       "      <td>sector 112</td>\n",
       "      <td>4.75</td>\n",
       "      <td>3</td>\n",
       "      <td>5</td>\n",
       "      <td>3+</td>\n",
       "      <td>4.0</td>\n",
       "      <td>Relatively New</td>\n",
       "      <td>3405.0</td>\n",
       "      <td>0</td>\n",
       "      <td>1</td>\n",
       "      <td>0</td>\n",
       "      <td>0</td>\n",
       "      <td>0</td>\n",
       "      <td>0</td>\n",
       "      <td>42</td>\n",
       "    </tr>\n",
       "    <tr>\n",
       "      <th>1</th>\n",
       "      <td>flat</td>\n",
       "      <td>sector 37c</td>\n",
       "      <td>0.90</td>\n",
       "      <td>3</td>\n",
       "      <td>3</td>\n",
       "      <td>3</td>\n",
       "      <td>0.0</td>\n",
       "      <td>Under Construction</td>\n",
       "      <td>1500.0</td>\n",
       "      <td>0</td>\n",
       "      <td>0</td>\n",
       "      <td>0</td>\n",
       "      <td>0</td>\n",
       "      <td>0</td>\n",
       "      <td>1</td>\n",
       "      <td>66</td>\n",
       "    </tr>\n",
       "    <tr>\n",
       "      <th>2</th>\n",
       "      <td>flat</td>\n",
       "      <td>sector 81</td>\n",
       "      <td>0.45</td>\n",
       "      <td>2</td>\n",
       "      <td>2</td>\n",
       "      <td>2</td>\n",
       "      <td>6.0</td>\n",
       "      <td>Relatively New</td>\n",
       "      <td>664.0</td>\n",
       "      <td>0</td>\n",
       "      <td>0</td>\n",
       "      <td>1</td>\n",
       "      <td>0</td>\n",
       "      <td>0</td>\n",
       "      <td>0</td>\n",
       "      <td>39</td>\n",
       "    </tr>\n",
       "    <tr>\n",
       "      <th>3</th>\n",
       "      <td>house</td>\n",
       "      <td>sector 43</td>\n",
       "      <td>9.85</td>\n",
       "      <td>5</td>\n",
       "      <td>5</td>\n",
       "      <td>2</td>\n",
       "      <td>3.0</td>\n",
       "      <td>Old Property</td>\n",
       "      <td>3323.0</td>\n",
       "      <td>1</td>\n",
       "      <td>1</td>\n",
       "      <td>0</td>\n",
       "      <td>1</td>\n",
       "      <td>0</td>\n",
       "      <td>1</td>\n",
       "      <td>21</td>\n",
       "    </tr>\n",
       "    <tr>\n",
       "      <th>4</th>\n",
       "      <td>flat</td>\n",
       "      <td>sector 92</td>\n",
       "      <td>0.80</td>\n",
       "      <td>4</td>\n",
       "      <td>4</td>\n",
       "      <td>3</td>\n",
       "      <td>1.0</td>\n",
       "      <td>Moderately Old</td>\n",
       "      <td>1893.0</td>\n",
       "      <td>0</td>\n",
       "      <td>0</td>\n",
       "      <td>0</td>\n",
       "      <td>0</td>\n",
       "      <td>0</td>\n",
       "      <td>1</td>\n",
       "      <td>77</td>\n",
       "    </tr>\n",
       "  </tbody>\n",
       "</table>\n",
       "</div>"
      ],
      "text/plain": [
       "  property_type      sector  price  bedRoom  bathroom balcony  floorNum  \\\n",
       "0          flat  sector 112   4.75        3         5      3+       4.0   \n",
       "1          flat  sector 37c   0.90        3         3       3       0.0   \n",
       "2          flat   sector 81   0.45        2         2       2       6.0   \n",
       "3         house   sector 43   9.85        5         5       2       3.0   \n",
       "4          flat   sector 92   0.80        4         4       3       1.0   \n",
       "\n",
       "        agePossession  built_up_area  study room  servant room  store room  \\\n",
       "0      Relatively New         3405.0           0             1           0   \n",
       "1  Under Construction         1500.0           0             0           0   \n",
       "2      Relatively New          664.0           0             0           1   \n",
       "3        Old Property         3323.0           1             1           0   \n",
       "4      Moderately Old         1893.0           0             0           0   \n",
       "\n",
       "   pooja room  others  furnishing_type  luxury_score  \n",
       "0           0       0                0            42  \n",
       "1           0       0                1            66  \n",
       "2           0       0                0            39  \n",
       "3           1       0                1            21  \n",
       "4           0       0                1            77  "
      ]
     },
     "execution_count": 11,
     "metadata": {},
     "output_type": "execute_result"
    }
   ],
   "source": [
    "train_df.head()"
   ]
  },
  {
   "cell_type": "code",
   "execution_count": 14,
   "id": "fc7ba8e3",
   "metadata": {},
   "outputs": [
    {
     "data": {
      "text/plain": [
       "Index(['property_type', 'sector', 'price', 'bedRoom', 'bathroom', 'balcony',\n",
       "       'floorNum', 'agePossession', 'built_up_area', 'study room',\n",
       "       'servant room', 'store room', 'pooja room', 'others', 'furnishing_type',\n",
       "       'luxury_score'],\n",
       "      dtype='object')"
      ]
     },
     "execution_count": 14,
     "metadata": {},
     "output_type": "execute_result"
    }
   ],
   "source": [
    "train_df.columns"
   ]
  },
  {
   "cell_type": "code",
   "execution_count": 21,
   "id": "c9857942",
   "metadata": {},
   "outputs": [],
   "source": [
    "numerical_cols = train_df.columns[train_df.dtypes!=\"object\"]"
   ]
  },
  {
   "cell_type": "code",
   "execution_count": 22,
   "id": "997f8cd6",
   "metadata": {},
   "outputs": [
    {
     "data": {
      "text/plain": [
       "<Axes: >"
      ]
     },
     "execution_count": 22,
     "metadata": {},
     "output_type": "execute_result"
    },
    {
     "data": {
      "image/png": "[encoded data removed]",
      "text/plain": [
       "<Figure size 640x480 with 2 Axes>"
      ]
     },
     "metadata": {},
     "output_type": "display_data"
    }
   ],
   "source": [
    "sns.heatmap(train_df[numerical_cols].corr())"
   ]
  },
  {
   "cell_type": "code",
   "execution_count": 24,
   "id": "8e5cfa32",
   "metadata": {},
   "outputs": [
    {
     "data": {
      "text/plain": [
       "price              1.000000\n",
       "bathroom           0.608450\n",
       "bedRoom            0.590452\n",
       "servant room       0.394148\n",
       "pooja room         0.322283\n",
       "store room         0.309729\n",
       "built_up_area      0.291542\n",
       "study room         0.241210\n",
       "luxury_score       0.095048\n",
       "others            -0.013606\n",
       "floorNum          -0.085812\n",
       "furnishing_type   -0.117601\n",
       "Name: price, dtype: float64"
      ]
     },
     "execution_count": 24,
     "metadata": {},
     "output_type": "execute_result"
    }
   ],
   "source": [
    "train_df[numerical_cols].corr()['price'].sort_values(ascending=False)"
   ]
  },
  {
   "cell_type": "code",
   "execution_count": null,
   "id": "805a590b",
   "metadata": {},
   "outputs": [],
   "source": [
    "# numerical -> luxury_score, others, floorNum\n",
    "# categorical -> property_type, sector, agePossession"
   ]
  },
  {
   "cell_type": "code",
   "execution_count": 28,
   "id": "e1c2eae1",
   "metadata": {},
   "outputs": [
    {
     "data": {
      "text/plain": [
       "price              1.000000\n",
       "price_per_sqft     0.769746\n",
       "bedRoom            0.590452\n",
       "bathroom           0.608450\n",
       "floorNum          -0.085812\n",
       "built_up_area      0.291542\n",
       "study room         0.241210\n",
       "servant room       0.394148\n",
       "store room         0.309729\n",
       "pooja room         0.322283\n",
       "others            -0.013606\n",
       "furnishing_type   -0.117601\n",
       "luxury_score       0.095048\n",
       "Name: price, dtype: float64"
      ]
     },
     "execution_count": 28,
     "metadata": {},
     "output_type": "execute_result"
    }
   ],
   "source": [
    "df[df.columns[df.dtypes!='object']].corr()['price']"
   ]
  },
  {
   "cell_type": "code",
   "execution_count": null,
   "id": "8e1e98a1",
   "metadata": {},
   "outputs": [],
   "source": []
  }
 ],
 "metadata": {
  "kernelspec": {
   "display_name": "Python (ds_env)",
   "language": "python",
   "name": "ds_env"
  },
  "language_info": {
   "codemirror_mode": {
    "name": "ipython",
    "version": 3
   },
   "file_extension": ".py",
   "mimetype": "text/x-python",
   "name": "python",
   "nbconvert_exporter": "python",
   "pygments_lexer": "ipython3",
   "version": "3.12.11"
  }
 },
 "nbformat": 4,
 "nbformat_minor": 5
}
